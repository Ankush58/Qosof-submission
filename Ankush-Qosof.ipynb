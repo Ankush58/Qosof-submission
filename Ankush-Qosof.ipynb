{
 "cells": [
  {
   "cell_type": "markdown",
   "metadata": {},
   "source": [
    "Hi! This is my attempt at solving the second question."
   ]
  },
  {
   "cell_type": "code",
   "execution_count": 1,
   "metadata": {},
   "outputs": [],
   "source": [
    "import pennylane as qml\n",
    "from pennylane import numpy as np\n",
    "from pennylane.qnodes import PassthruQNode\n",
    "from pennylane_cirq import ops as cirq_ops\n",
    "import random as rand"
   ]
  },
  {
   "cell_type": "markdown",
   "metadata": {},
   "source": [
    "The device is set up for 10 measurements and a depolarizing channel is added to simulate noise. Although Rx and Ry gates are not required on both wires I included them regardless."
   ]
  },
  {
   "cell_type": "code",
   "execution_count": 2,
   "metadata": {
    "scrolled": true
   },
   "outputs": [],
   "source": [
    "dev2 = qml.device(\"cirq.mixedsimulator\", wires=2, shots=10, analytic=False)\n",
    "noise_param=rand.random()\n",
    "@qml.qnode(dev2)\n",
    "def circuit(x):\n",
    "    qml.RY(x[0], wires=0)\n",
    "    qml.RX(x[1], wires=0)\n",
    "    qml.RX(x[2], wires=1)\n",
    "    qml.RY(x[3], wires=1)\n",
    "    qml.CNOT(wires=[0,1])\n",
    "    cirq_ops.Depolarize(noise_param, wires=0)\n",
    "    cirq_ops.Depolarize(noise_param, wires=1)\n",
    "    return qml.probs(wires=[0,1])"
   ]
  },
  {
   "cell_type": "markdown",
   "metadata": {},
   "source": [
    "probs(wires=[]) will give the probability of each of the four possible states.\n",
    "We need the |01> and the |10> states to be equally probable, so I set up a cost function as the negative of the product of their probabilities. Minimizing this cost function should give us -0.25.  "
   ]
  },
  {
   "cell_type": "code",
   "execution_count": 3,
   "metadata": {},
   "outputs": [],
   "source": [
    "def cost(x):\n",
    "    cir = circuit(x)\n",
    "    return -(cir[1])*(cir[2])"
   ]
  },
  {
   "cell_type": "markdown",
   "metadata": {},
   "source": [
    "Giving random starting values to the parametric gates:"
   ]
  },
  {
   "cell_type": "code",
   "execution_count": 4,
   "metadata": {},
   "outputs": [
    {
     "name": "stdout",
     "output_type": "stream",
     "text": [
      "-0.0\n"
     ]
    }
   ],
   "source": [
    "import random as rand\n",
    "init_params = np.array([rand.random(),rand.random(),rand.random(),rand.random()])\n",
    "print(cost(init_params))"
   ]
  },
  {
   "cell_type": "markdown",
   "metadata": {},
   "source": [
    "Using pennylane's gradient descent optimizer to minimize the cost function:"
   ]
  },
  {
   "cell_type": "code",
   "execution_count": 5,
   "metadata": {
    "scrolled": true
   },
   "outputs": [
    {
     "name": "stdout",
     "output_type": "stream",
     "text": [
      "Cost after step   100: -0.1200000\n",
      "Cost after step   200: -0.2500000\n",
      "Cost after step   300: -0.2400000\n",
      "Cost after step   400: -0.2400000\n",
      "Cost after step   500: -0.1600000\n",
      "Optimized rotation angles: [1.61078468 0.66908669 0.0241705  3.10211758]\n"
     ]
    }
   ],
   "source": [
    "opt = qml.GradientDescentOptimizer(stepsize=0.1)\n",
    "\n",
    "# set the number of steps\n",
    "steps = 500\n",
    "# set the initial parameter values\n",
    "params = init_params\n",
    "\n",
    "for i in range(steps):\n",
    "    # update the circuit parameters\n",
    "    params = opt.step(cost, params)\n",
    "\n",
    "    cs = cost(params)\n",
    "    if (i + 1) % 100 == 0:\n",
    "        print(\"Cost after step {:5d}: {: .7f}\".format(i + 1, cs))\n",
    "\n",
    "print(\"Optimized rotation angles: {}\".format(params))"
   ]
  },
  {
   "cell_type": "markdown",
   "metadata": {},
   "source": [
    "We get the required probabilities:"
   ]
  },
  {
   "cell_type": "code",
   "execution_count": 6,
   "metadata": {},
   "outputs": [
    {
     "data": {
      "text/plain": [
       "array([0. , 0.5, 0.5, 0. ])"
      ]
     },
     "execution_count": 6,
     "metadata": {},
     "output_type": "execute_result"
    }
   ],
   "source": [
    "circuit (params)"
   ]
  },
  {
   "cell_type": "markdown",
   "metadata": {},
   "source": [
    "Doing the same for 100 shots:"
   ]
  },
  {
   "cell_type": "code",
   "execution_count": 8,
   "metadata": {},
   "outputs": [],
   "source": [
    "dev2 = qml.device(\"cirq.mixedsimulator\", wires=2, shots=100, analytic=False)\n",
    "noise_param=rand.random()\n",
    "@qml.qnode(dev2)\n",
    "def circuit(x):\n",
    "    qml.RY(x[0], wires=0)\n",
    "    qml.RX(x[1], wires=0)\n",
    "    qml.RX(x[2], wires=1)\n",
    "    qml.RY(x[3], wires=1)\n",
    "    qml.CNOT(wires=[0,1])\n",
    "    cirq_ops.Depolarize(noise_param, wires=0)\n",
    "    cirq_ops.Depolarize(noise_param, wires=1)\n",
    "    return qml.probs(wires=[0,1])"
   ]
  },
  {
   "cell_type": "code",
   "execution_count": 9,
   "metadata": {},
   "outputs": [],
   "source": [
    "def cost(x):\n",
    "    cir = circuit(x)\n",
    "    return -(cir[1])*(cir[2])"
   ]
  },
  {
   "cell_type": "code",
   "execution_count": 10,
   "metadata": {},
   "outputs": [
    {
     "name": "stdout",
     "output_type": "stream",
     "text": [
      "-0.0006\n"
     ]
    }
   ],
   "source": [
    "import random as rand\n",
    "init_params = np.array([rand.random(),rand.random(),rand.random(),rand.random()])\n",
    "print(cost(init_params))"
   ]
  },
  {
   "cell_type": "code",
   "execution_count": 15,
   "metadata": {},
   "outputs": [
    {
     "name": "stdout",
     "output_type": "stream",
     "text": [
      "Cost after step   100: -0.0015000\n",
      "Cost after step   200: -0.0038000\n",
      "Cost after step   300: -0.0024000\n",
      "Cost after step   400: -0.1683000\n",
      "Cost after step   500: -0.2496000\n",
      "Optimized rotation angles: [0.31514478 1.55424451 0.01641144 3.11256746]\n"
     ]
    }
   ],
   "source": [
    "opt = qml.GradientDescentOptimizer(stepsize=0.15)\n",
    "\n",
    "# set the number of steps\n",
    "steps = 500\n",
    "# set the initial parameter values\n",
    "params = init_params\n",
    "\n",
    "for i in range(steps):\n",
    "    # update the circuit parameters\n",
    "    params = opt.step(cost, params)\n",
    "\n",
    "    cs = cost(params)\n",
    "    if (i + 1) % 100 == 0:\n",
    "        print(\"Cost after step {:5d}: {: .7f}\".format(i + 1, cs))\n",
    "\n",
    "print(\"Optimized rotation angles: {}\".format(params))"
   ]
  },
  {
   "cell_type": "code",
   "execution_count": 21,
   "metadata": {},
   "outputs": [
    {
     "data": {
      "text/plain": [
       "array([0.  , 0.51, 0.49, 0.  ])"
      ]
     },
     "execution_count": 21,
     "metadata": {},
     "output_type": "execute_result"
    }
   ],
   "source": [
    "circuit (params)"
   ]
  },
  {
   "cell_type": "markdown",
   "metadata": {},
   "source": [
    "Doing the same for 1000 shots:"
   ]
  },
  {
   "cell_type": "code",
   "execution_count": 22,
   "metadata": {},
   "outputs": [],
   "source": [
    "dev2 = qml.device(\"cirq.mixedsimulator\", wires=2, shots=1000, analytic=False)\n",
    "noise_param=rand.random()\n",
    "@qml.qnode(dev2)\n",
    "def circuit(x):\n",
    "    qml.RY(x[0], wires=0)\n",
    "    qml.RX(x[1], wires=0)\n",
    "    qml.RX(x[2], wires=1)\n",
    "    qml.RY(x[3], wires=1)\n",
    "    qml.CNOT(wires=[0,1])\n",
    "    cirq_ops.Depolarize(noise_param, wires=0)\n",
    "    cirq_ops.Depolarize(noise_param, wires=1)\n",
    "    return qml.probs(wires=[0,1])"
   ]
  },
  {
   "cell_type": "code",
   "execution_count": 23,
   "metadata": {},
   "outputs": [],
   "source": [
    "def cost(x):\n",
    "    cir = circuit(x)\n",
    "    return -(cir[1])*(cir[2])"
   ]
  },
  {
   "cell_type": "code",
   "execution_count": 24,
   "metadata": {},
   "outputs": [
    {
     "name": "stdout",
     "output_type": "stream",
     "text": [
      "-0.00406\n"
     ]
    }
   ],
   "source": [
    "import random as rand\n",
    "init_params = np.array([rand.random(),rand.random(),rand.random(),rand.random()])\n",
    "print(cost(init_params))"
   ]
  },
  {
   "cell_type": "code",
   "execution_count": 25,
   "metadata": {},
   "outputs": [
    {
     "name": "stdout",
     "output_type": "stream",
     "text": [
      "Cost after step   100: -0.0525000\n",
      "Cost after step   200: -0.2477050\n",
      "Cost after step   300: -0.2498560\n",
      "Cost after step   400: -0.2500000\n",
      "Cost after step   500: -0.2499990\n",
      "Optimized rotation angles: [ 1.13013116e+00  1.57646876e+00  3.13824009e+00 -2.19498580e-03]\n"
     ]
    }
   ],
   "source": [
    "opt = qml.GradientDescentOptimizer(stepsize=0.15)\n",
    "\n",
    "# set the number of steps\n",
    "steps = 500\n",
    "# set the initial parameter values\n",
    "params = init_params\n",
    "\n",
    "for i in range(steps):\n",
    "    # update the circuit parameters\n",
    "    params = opt.step(cost, params)\n",
    "\n",
    "    cs = cost(params)\n",
    "    if (i + 1) % 100 == 0:\n",
    "        print(\"Cost after step {:5d}: {: .7f}\".format(i + 1, cs))\n",
    "\n",
    "print(\"Optimized rotation angles: {}\".format(params))"
   ]
  },
  {
   "cell_type": "code",
   "execution_count": 26,
   "metadata": {},
   "outputs": [
    {
     "data": {
      "text/plain": [
       "array([0.   , 0.486, 0.514, 0.   ])"
      ]
     },
     "execution_count": 26,
     "metadata": {},
     "output_type": "execute_result"
    }
   ],
   "source": [
    "circuit (params)"
   ]
  },
  {
   "cell_type": "markdown",
   "metadata": {},
   "source": [
    "This method gives us |10> and |01> with equal probablities. But we don't know if it is the |01> + |10> or  |01> - |10> state. \n",
    "Finding a way to get the |01> + |10> state everytime proved easier in theory than in practice. \n",
    "If I use amplitudes instead if probabilites in my code then I could make a cost function with real parts of the amplitude of the |01> and |10> states. Minimizing the product of the real parts of their amplitudes will give me the |10> + |10> state. (by basically eliminating complex parts of the amplitudes)\n",
    "\n",
    "I could not however, manage to get this to work. I encountered quite a few problems while trying to get the statevector, making a cost function from it and then applying gradient descent (mainly while trying to use autograd with complex parameters), so I'm submitting my solution without the bonus part.\n",
    "\n",
    "This was an extremely fun exercise and I hope to work on similarly exciting problems if selected. Thanks!"
   ]
  }
 ],
 "metadata": {
  "kernelspec": {
   "display_name": "Python 3",
   "language": "python",
   "name": "python3"
  },
  "language_info": {
   "codemirror_mode": {
    "name": "ipython",
    "version": 3
   },
   "file_extension": ".py",
   "mimetype": "text/x-python",
   "name": "python",
   "nbconvert_exporter": "python",
   "pygments_lexer": "ipython3",
   "version": "3.7.6"
  }
 },
 "nbformat": 4,
 "nbformat_minor": 4
}
